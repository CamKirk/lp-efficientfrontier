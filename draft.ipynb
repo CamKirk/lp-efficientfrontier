{
 "cells": [
  {
   "cell_type": "code",
   "execution_count": 44,
   "metadata": {},
   "outputs": [],
   "source": [
    "import pandas as pd\n",
    "import os\n",
    "import random"
   ]
  },
  {
   "cell_type": "code",
   "execution_count": 34,
   "metadata": {},
   "outputs": [],
   "source": [
    "file_list = os.listdir(\"data\")"
   ]
  },
  {
   "cell_type": "code",
   "execution_count": 35,
   "metadata": {},
   "outputs": [],
   "source": [
    "df_dict = {}\n",
    "for file in file_list:\n",
    "    name = file.split(\".\")[0]\n",
    "    \n",
    "    series = pd.read_csv(f\"./data/{file}\", index_col=\"Date\", parse_dates=True,\n",
    "                         infer_datetime_format=True)[\" Close/Last\"]\n",
    "    \n",
    "    series = series.str.replace(\"$\",\"\").astype(\"float\")\n",
    "    df_dict[name]  = series"
   ]
  },
  {
   "cell_type": "code",
   "execution_count": 36,
   "metadata": {
    "collapsed": true,
    "jupyter": {
     "outputs_hidden": true
    }
   },
   "outputs": [
    {
     "data": {
      "text/plain": [
       "{'ENPH': Date\n",
       " 2020-03-26    36.13\n",
       " 2020-03-25    36.81\n",
       " 2020-03-24    34.34\n",
       " 2020-03-23    27.51\n",
       " 2020-03-20    26.00\n",
       "               ...  \n",
       " 2019-04-02     9.35\n",
       " 2019-04-01     9.26\n",
       " 2019-03-29     9.23\n",
       " 2019-03-28     9.08\n",
       " 2019-03-27     8.80\n",
       " Name:  Close/Last, Length: 253, dtype: float64,\n",
       " 'RUN': Date\n",
       " 2020-03-26    12.38\n",
       " 2020-03-25    12.16\n",
       " 2020-03-24    11.16\n",
       " 2020-03-23     9.02\n",
       " 2020-03-20     8.36\n",
       "               ...  \n",
       " 2019-04-02    14.22\n",
       " 2019-04-01    14.18\n",
       " 2019-03-29    14.06\n",
       " 2019-03-28    14.27\n",
       " 2019-03-27    14.23\n",
       " Name:  Close/Last, Length: 253, dtype: float64,\n",
       " 'SEDG': Date\n",
       " 2020-03-26    90.45\n",
       " 2020-03-25    89.90\n",
       " 2020-03-24    85.31\n",
       " 2020-03-23    69.48\n",
       " 2020-03-20    69.61\n",
       "               ...  \n",
       " 2019-04-02    38.20\n",
       " 2019-04-01    37.85\n",
       " 2019-03-29    37.68\n",
       " 2019-03-28    37.76\n",
       " 2019-03-27    36.79\n",
       " Name:  Close/Last, Length: 253, dtype: float64,\n",
       " 'VSLR': Date\n",
       " 2020-03-26    4.98\n",
       " 2020-03-25    5.07\n",
       " 2020-03-24    4.75\n",
       " 2020-03-23    4.20\n",
       " 2020-03-20    4.02\n",
       "               ... \n",
       " 2019-04-02    5.10\n",
       " 2019-04-01    5.11\n",
       " 2019-03-29    4.97\n",
       " 2019-03-28    4.94\n",
       " 2019-03-27    4.79\n",
       " Name:  Close/Last, Length: 253, dtype: float64,\n",
       " 'FSLR': Date\n",
       " 2020-03-26    37.62\n",
       " 2020-03-25    34.79\n",
       " 2020-03-24    33.71\n",
       " 2020-03-23    33.07\n",
       " 2020-03-20    33.69\n",
       "               ...  \n",
       " 2019-04-02    53.90\n",
       " 2019-04-01    54.11\n",
       " 2019-03-29    52.84\n",
       " 2019-03-28    52.02\n",
       " 2019-03-27    51.19\n",
       " Name:  Close/Last, Length: 253, dtype: float64,\n",
       " 'SPWR': Date\n",
       " 2020-03-26    6.38\n",
       " 2020-03-25    6.67\n",
       " 2020-03-24    6.78\n",
       " 2020-03-23    6.16\n",
       " 2020-03-20    5.81\n",
       "               ... \n",
       " 2019-04-02    6.90\n",
       " 2019-04-01    6.77\n",
       " 2019-03-29    6.51\n",
       " 2019-03-28    6.44\n",
       " 2019-03-27    6.25\n",
       " Name:  Close/Last, Length: 253, dtype: float64}"
      ]
     },
     "execution_count": 36,
     "metadata": {},
     "output_type": "execute_result"
    }
   ],
   "source": [
    "df_dict"
   ]
  },
  {
   "cell_type": "code",
   "execution_count": 37,
   "metadata": {},
   "outputs": [
    {
     "data": {
      "text/html": [
       "<div>\n",
       "<style scoped>\n",
       "    .dataframe tbody tr th:only-of-type {\n",
       "        vertical-align: middle;\n",
       "    }\n",
       "\n",
       "    .dataframe tbody tr th {\n",
       "        vertical-align: top;\n",
       "    }\n",
       "\n",
       "    .dataframe thead th {\n",
       "        text-align: right;\n",
       "    }\n",
       "</style>\n",
       "<table border=\"1\" class=\"dataframe\">\n",
       "  <thead>\n",
       "    <tr style=\"text-align: right;\">\n",
       "      <th></th>\n",
       "      <th>ENPH</th>\n",
       "      <th>RUN</th>\n",
       "      <th>SEDG</th>\n",
       "      <th>VSLR</th>\n",
       "      <th>FSLR</th>\n",
       "      <th>SPWR</th>\n",
       "    </tr>\n",
       "    <tr>\n",
       "      <th>Date</th>\n",
       "      <th></th>\n",
       "      <th></th>\n",
       "      <th></th>\n",
       "      <th></th>\n",
       "      <th></th>\n",
       "      <th></th>\n",
       "    </tr>\n",
       "  </thead>\n",
       "  <tbody>\n",
       "    <tr>\n",
       "      <th>2020-03-26</th>\n",
       "      <td>36.13</td>\n",
       "      <td>12.38</td>\n",
       "      <td>90.45</td>\n",
       "      <td>4.98</td>\n",
       "      <td>37.62</td>\n",
       "      <td>6.38</td>\n",
       "    </tr>\n",
       "    <tr>\n",
       "      <th>2020-03-25</th>\n",
       "      <td>36.81</td>\n",
       "      <td>12.16</td>\n",
       "      <td>89.90</td>\n",
       "      <td>5.07</td>\n",
       "      <td>34.79</td>\n",
       "      <td>6.67</td>\n",
       "    </tr>\n",
       "    <tr>\n",
       "      <th>2020-03-24</th>\n",
       "      <td>34.34</td>\n",
       "      <td>11.16</td>\n",
       "      <td>85.31</td>\n",
       "      <td>4.75</td>\n",
       "      <td>33.71</td>\n",
       "      <td>6.78</td>\n",
       "    </tr>\n",
       "    <tr>\n",
       "      <th>2020-03-23</th>\n",
       "      <td>27.51</td>\n",
       "      <td>9.02</td>\n",
       "      <td>69.48</td>\n",
       "      <td>4.20</td>\n",
       "      <td>33.07</td>\n",
       "      <td>6.16</td>\n",
       "    </tr>\n",
       "    <tr>\n",
       "      <th>2020-03-20</th>\n",
       "      <td>26.00</td>\n",
       "      <td>8.36</td>\n",
       "      <td>69.61</td>\n",
       "      <td>4.02</td>\n",
       "      <td>33.69</td>\n",
       "      <td>5.81</td>\n",
       "    </tr>\n",
       "  </tbody>\n",
       "</table>\n",
       "</div>"
      ],
      "text/plain": [
       "             ENPH    RUN   SEDG  VSLR   FSLR  SPWR\n",
       "Date                                              \n",
       "2020-03-26  36.13  12.38  90.45  4.98  37.62  6.38\n",
       "2020-03-25  36.81  12.16  89.90  5.07  34.79  6.67\n",
       "2020-03-24  34.34  11.16  85.31  4.75  33.71  6.78\n",
       "2020-03-23  27.51   9.02  69.48  4.20  33.07  6.16\n",
       "2020-03-20  26.00   8.36  69.61  4.02  33.69  5.81"
      ]
     },
     "execution_count": 37,
     "metadata": {},
     "output_type": "execute_result"
    }
   ],
   "source": [
    "df = pd.concat(df_dict.values(), axis=\"columns\", join=\"inner\")\n",
    "df.columns = df_dict.keys()\n",
    "df.head()"
   ]
  },
  {
   "cell_type": "code",
   "execution_count": 38,
   "metadata": {},
   "outputs": [
    {
     "data": {
      "text/html": [
       "<div>\n",
       "<style scoped>\n",
       "    .dataframe tbody tr th:only-of-type {\n",
       "        vertical-align: middle;\n",
       "    }\n",
       "\n",
       "    .dataframe tbody tr th {\n",
       "        vertical-align: top;\n",
       "    }\n",
       "\n",
       "    .dataframe thead th {\n",
       "        text-align: right;\n",
       "    }\n",
       "</style>\n",
       "<table border=\"1\" class=\"dataframe\">\n",
       "  <thead>\n",
       "    <tr style=\"text-align: right;\">\n",
       "      <th></th>\n",
       "      <th>ENPH</th>\n",
       "      <th>RUN</th>\n",
       "      <th>SEDG</th>\n",
       "      <th>VSLR</th>\n",
       "      <th>FSLR</th>\n",
       "      <th>SPWR</th>\n",
       "    </tr>\n",
       "    <tr>\n",
       "      <th>Date</th>\n",
       "      <th></th>\n",
       "      <th></th>\n",
       "      <th></th>\n",
       "      <th></th>\n",
       "      <th></th>\n",
       "      <th></th>\n",
       "    </tr>\n",
       "  </thead>\n",
       "  <tbody>\n",
       "    <tr>\n",
       "      <th>2020-03-26</th>\n",
       "      <td>NaN</td>\n",
       "      <td>NaN</td>\n",
       "      <td>NaN</td>\n",
       "      <td>NaN</td>\n",
       "      <td>NaN</td>\n",
       "      <td>NaN</td>\n",
       "    </tr>\n",
       "    <tr>\n",
       "      <th>2020-03-25</th>\n",
       "      <td>0.018821</td>\n",
       "      <td>-0.017771</td>\n",
       "      <td>-0.006081</td>\n",
       "      <td>0.018072</td>\n",
       "      <td>-0.075226</td>\n",
       "      <td>0.045455</td>\n",
       "    </tr>\n",
       "    <tr>\n",
       "      <th>2020-03-24</th>\n",
       "      <td>-0.067101</td>\n",
       "      <td>-0.082237</td>\n",
       "      <td>-0.051057</td>\n",
       "      <td>-0.063116</td>\n",
       "      <td>-0.031043</td>\n",
       "      <td>0.016492</td>\n",
       "    </tr>\n",
       "    <tr>\n",
       "      <th>2020-03-23</th>\n",
       "      <td>-0.198893</td>\n",
       "      <td>-0.191756</td>\n",
       "      <td>-0.185559</td>\n",
       "      <td>-0.115789</td>\n",
       "      <td>-0.018985</td>\n",
       "      <td>-0.091445</td>\n",
       "    </tr>\n",
       "    <tr>\n",
       "      <th>2020-03-20</th>\n",
       "      <td>-0.054889</td>\n",
       "      <td>-0.073171</td>\n",
       "      <td>0.001871</td>\n",
       "      <td>-0.042857</td>\n",
       "      <td>0.018748</td>\n",
       "      <td>-0.056818</td>\n",
       "    </tr>\n",
       "  </tbody>\n",
       "</table>\n",
       "</div>"
      ],
      "text/plain": [
       "                ENPH       RUN      SEDG      VSLR      FSLR      SPWR\n",
       "Date                                                                  \n",
       "2020-03-26       NaN       NaN       NaN       NaN       NaN       NaN\n",
       "2020-03-25  0.018821 -0.017771 -0.006081  0.018072 -0.075226  0.045455\n",
       "2020-03-24 -0.067101 -0.082237 -0.051057 -0.063116 -0.031043  0.016492\n",
       "2020-03-23 -0.198893 -0.191756 -0.185559 -0.115789 -0.018985 -0.091445\n",
       "2020-03-20 -0.054889 -0.073171  0.001871 -0.042857  0.018748 -0.056818"
      ]
     },
     "execution_count": 38,
     "metadata": {},
     "output_type": "execute_result"
    }
   ],
   "source": [
    "returns = df.pct_change()\n",
    "returns.head()"
   ]
  },
  {
   "cell_type": "code",
   "execution_count": 43,
   "metadata": {},
   "outputs": [
    {
     "data": {
      "text/html": [
       "<div>\n",
       "<style scoped>\n",
       "    .dataframe tbody tr th:only-of-type {\n",
       "        vertical-align: middle;\n",
       "    }\n",
       "\n",
       "    .dataframe tbody tr th {\n",
       "        vertical-align: top;\n",
       "    }\n",
       "\n",
       "    .dataframe thead th {\n",
       "        text-align: right;\n",
       "    }\n",
       "</style>\n",
       "<table border=\"1\" class=\"dataframe\">\n",
       "  <thead>\n",
       "    <tr style=\"text-align: right;\">\n",
       "      <th></th>\n",
       "      <th>ENPH</th>\n",
       "      <th>RUN</th>\n",
       "      <th>SEDG</th>\n",
       "      <th>VSLR</th>\n",
       "      <th>FSLR</th>\n",
       "      <th>SPWR</th>\n",
       "    </tr>\n",
       "  </thead>\n",
       "  <tbody>\n",
       "    <tr>\n",
       "      <th>count</th>\n",
       "      <td>252.000000</td>\n",
       "      <td>252.000000</td>\n",
       "      <td>252.000000</td>\n",
       "      <td>252.000000</td>\n",
       "      <td>252.000000</td>\n",
       "      <td>252.000000</td>\n",
       "    </tr>\n",
       "    <tr>\n",
       "      <th>mean</th>\n",
       "      <td>-0.003772</td>\n",
       "      <td>0.001461</td>\n",
       "      <td>-0.002632</td>\n",
       "      <td>0.001152</td>\n",
       "      <td>0.001638</td>\n",
       "      <td>0.001271</td>\n",
       "    </tr>\n",
       "    <tr>\n",
       "      <th>std</th>\n",
       "      <td>0.060528</td>\n",
       "      <td>0.043647</td>\n",
       "      <td>0.042951</td>\n",
       "      <td>0.052735</td>\n",
       "      <td>0.029288</td>\n",
       "      <td>0.052580</td>\n",
       "    </tr>\n",
       "    <tr>\n",
       "      <th>min</th>\n",
       "      <td>-0.297973</td>\n",
       "      <td>-0.191756</td>\n",
       "      <td>-0.200747</td>\n",
       "      <td>-0.115789</td>\n",
       "      <td>-0.097430</td>\n",
       "      <td>-0.194904</td>\n",
       "    </tr>\n",
       "    <tr>\n",
       "      <th>25%</th>\n",
       "      <td>-0.030729</td>\n",
       "      <td>-0.019450</td>\n",
       "      <td>-0.019575</td>\n",
       "      <td>-0.025299</td>\n",
       "      <td>-0.014000</td>\n",
       "      <td>-0.023170</td>\n",
       "    </tr>\n",
       "    <tr>\n",
       "      <th>50%</th>\n",
       "      <td>-0.008476</td>\n",
       "      <td>-0.002117</td>\n",
       "      <td>-0.003343</td>\n",
       "      <td>-0.003482</td>\n",
       "      <td>-0.000866</td>\n",
       "      <td>-0.002934</td>\n",
       "    </tr>\n",
       "    <tr>\n",
       "      <th>75%</th>\n",
       "      <td>0.017973</td>\n",
       "      <td>0.014797</td>\n",
       "      <td>0.014000</td>\n",
       "      <td>0.017671</td>\n",
       "      <td>0.010861</td>\n",
       "      <td>0.022163</td>\n",
       "    </tr>\n",
       "    <tr>\n",
       "      <th>max</th>\n",
       "      <td>0.342751</td>\n",
       "      <td>0.288527</td>\n",
       "      <td>0.194161</td>\n",
       "      <td>0.310030</td>\n",
       "      <td>0.172564</td>\n",
       "      <td>0.242733</td>\n",
       "    </tr>\n",
       "  </tbody>\n",
       "</table>\n",
       "</div>"
      ],
      "text/plain": [
       "             ENPH         RUN        SEDG        VSLR        FSLR        SPWR\n",
       "count  252.000000  252.000000  252.000000  252.000000  252.000000  252.000000\n",
       "mean    -0.003772    0.001461   -0.002632    0.001152    0.001638    0.001271\n",
       "std      0.060528    0.043647    0.042951    0.052735    0.029288    0.052580\n",
       "min     -0.297973   -0.191756   -0.200747   -0.115789   -0.097430   -0.194904\n",
       "25%     -0.030729   -0.019450   -0.019575   -0.025299   -0.014000   -0.023170\n",
       "50%     -0.008476   -0.002117   -0.003343   -0.003482   -0.000866   -0.002934\n",
       "75%      0.017973    0.014797    0.014000    0.017671    0.010861    0.022163\n",
       "max      0.342751    0.288527    0.194161    0.310030    0.172564    0.242733"
      ]
     },
     "execution_count": 43,
     "metadata": {},
     "output_type": "execute_result"
    }
   ],
   "source": [
    "returns.describe()"
   ]
  },
  {
   "cell_type": "code",
   "execution_count": 64,
   "metadata": {},
   "outputs": [
    {
     "data": {
      "text/html": [
       "<div>\n",
       "<style scoped>\n",
       "    .dataframe tbody tr th:only-of-type {\n",
       "        vertical-align: middle;\n",
       "    }\n",
       "\n",
       "    .dataframe tbody tr th {\n",
       "        vertical-align: top;\n",
       "    }\n",
       "\n",
       "    .dataframe thead th {\n",
       "        text-align: right;\n",
       "    }\n",
       "</style>\n",
       "<table border=\"1\" class=\"dataframe\">\n",
       "  <thead>\n",
       "    <tr style=\"text-align: right;\">\n",
       "      <th></th>\n",
       "      <th>ENPH</th>\n",
       "      <th>RUN</th>\n",
       "      <th>SEDG</th>\n",
       "      <th>VSLR</th>\n",
       "      <th>FSLR</th>\n",
       "      <th>SPWR</th>\n",
       "    </tr>\n",
       "  </thead>\n",
       "  <tbody>\n",
       "    <tr>\n",
       "      <th>ENPH</th>\n",
       "      <td>1.000000</td>\n",
       "      <td>0.587845</td>\n",
       "      <td>0.697469</td>\n",
       "      <td>0.507553</td>\n",
       "      <td>0.457504</td>\n",
       "      <td>0.649156</td>\n",
       "    </tr>\n",
       "    <tr>\n",
       "      <th>RUN</th>\n",
       "      <td>0.587845</td>\n",
       "      <td>1.000000</td>\n",
       "      <td>0.633142</td>\n",
       "      <td>0.709869</td>\n",
       "      <td>0.528704</td>\n",
       "      <td>0.626763</td>\n",
       "    </tr>\n",
       "    <tr>\n",
       "      <th>SEDG</th>\n",
       "      <td>0.697469</td>\n",
       "      <td>0.633142</td>\n",
       "      <td>1.000000</td>\n",
       "      <td>0.499506</td>\n",
       "      <td>0.506530</td>\n",
       "      <td>0.582480</td>\n",
       "    </tr>\n",
       "    <tr>\n",
       "      <th>VSLR</th>\n",
       "      <td>0.507553</td>\n",
       "      <td>0.709869</td>\n",
       "      <td>0.499506</td>\n",
       "      <td>1.000000</td>\n",
       "      <td>0.514071</td>\n",
       "      <td>0.497673</td>\n",
       "    </tr>\n",
       "    <tr>\n",
       "      <th>FSLR</th>\n",
       "      <td>0.457504</td>\n",
       "      <td>0.528704</td>\n",
       "      <td>0.506530</td>\n",
       "      <td>0.514071</td>\n",
       "      <td>1.000000</td>\n",
       "      <td>0.620140</td>\n",
       "    </tr>\n",
       "    <tr>\n",
       "      <th>SPWR</th>\n",
       "      <td>0.649156</td>\n",
       "      <td>0.626763</td>\n",
       "      <td>0.582480</td>\n",
       "      <td>0.497673</td>\n",
       "      <td>0.620140</td>\n",
       "      <td>1.000000</td>\n",
       "    </tr>\n",
       "  </tbody>\n",
       "</table>\n",
       "</div>"
      ],
      "text/plain": [
       "          ENPH       RUN      SEDG      VSLR      FSLR      SPWR\n",
       "ENPH  1.000000  0.587845  0.697469  0.507553  0.457504  0.649156\n",
       "RUN   0.587845  1.000000  0.633142  0.709869  0.528704  0.626763\n",
       "SEDG  0.697469  0.633142  1.000000  0.499506  0.506530  0.582480\n",
       "VSLR  0.507553  0.709869  0.499506  1.000000  0.514071  0.497673\n",
       "FSLR  0.457504  0.528704  0.506530  0.514071  1.000000  0.620140\n",
       "SPWR  0.649156  0.626763  0.582480  0.497673  0.620140  1.000000"
      ]
     },
     "execution_count": 64,
     "metadata": {},
     "output_type": "execute_result"
    }
   ],
   "source": [
    "returns.corr()"
   ]
  },
  {
   "cell_type": "code",
   "execution_count": 82,
   "metadata": {},
   "outputs": [
    {
     "data": {
      "text/plain": [
       "<matplotlib.axes._subplots.AxesSubplot at 0x1a1c1514d0>"
      ]
     },
     "execution_count": 82,
     "metadata": {},
     "output_type": "execute_result"
    },
    {
     "data": {
      "image/png": "[encoded data removed]",
      "text/plain": [
       "<Figure size 432x288 with 2 Axes>"
      ]
     },
     "metadata": {
      "needs_background": "light"
     },
     "output_type": "display_data"
    }
   ],
   "source": [
    "import seaborn as sns\n",
    "sns.heatmap(returns.corr(), vmin=-1, vmax=1, cmap=\"bone\", annot=True)"
   ]
  },
  {
   "cell_type": "code",
   "execution_count": 47,
   "metadata": {},
   "outputs": [],
   "source": [
    "preweight = [random.random() for w in range(6)]\n",
    "weightsum = sum(preweight)\n",
    "weights = [w/weightsum for w in preweight]"
   ]
  },
  {
   "cell_type": "code",
   "execution_count": 50,
   "metadata": {},
   "outputs": [
    {
     "data": {
      "text/plain": [
       "Date\n",
       "2020-03-26         NaN\n",
       "2020-03-25    0.998493\n",
       "2020-03-24    0.947783\n",
       "2020-03-23    0.815927\n",
       "2020-03-20    0.785197\n",
       "                ...   \n",
       "2019-04-02    0.961855\n",
       "2019-04-01    0.957250\n",
       "2019-03-29    0.939787\n",
       "2019-03-28    0.938951\n",
       "2019-03-27    0.919494\n",
       "Length: 253, dtype: float64"
      ]
     },
     "execution_count": 50,
     "metadata": {},
     "output_type": "execute_result"
    }
   ],
   "source": [
    "initial = 10000\n",
    "portfolio_returns = returns.dot(weights)\n",
    "cumulative_returns = (1+portfolio_returns).cumprod()\n",
    "cumulative_returns"
   ]
  },
  {
   "cell_type": "code",
   "execution_count": 53,
   "metadata": {},
   "outputs": [
    {
     "data": {
      "text/plain": [
       "<matplotlib.axes._subplots.AxesSubplot at 0x117843c10>"
      ]
     },
     "execution_count": 53,
     "metadata": {},
     "output_type": "execute_result"
    },
    {
     "data": {
      "image/png": "[encoded data removed]",
      "text/plain": [
       "<Figure size 432x288 with 1 Axes>"
      ]
     },
     "metadata": {
      "needs_background": "light"
     },
     "output_type": "display_data"
    }
   ],
   "source": [
    "(initial * cumulative_returns).plot()"
   ]
  },
  {
   "cell_type": "code",
   "execution_count": 75,
   "metadata": {},
   "outputs": [],
   "source": [
    "results = pd.DataFrame({\n",
    "    \"Weights\":[],\n",
    "    \"Final_Value\":[],\n",
    "    \"Risk\":[]\n",
    "})"
   ]
  },
  {
   "cell_type": "code",
   "execution_count": 63,
   "metadata": {},
   "outputs": [
    {
     "data": {
      "text/html": [
       "<div>\n",
       "<style scoped>\n",
       "    .dataframe tbody tr th:only-of-type {\n",
       "        vertical-align: middle;\n",
       "    }\n",
       "\n",
       "    .dataframe tbody tr th {\n",
       "        vertical-align: top;\n",
       "    }\n",
       "\n",
       "    .dataframe thead th {\n",
       "        text-align: right;\n",
       "    }\n",
       "</style>\n",
       "<table border=\"1\" class=\"dataframe\">\n",
       "  <thead>\n",
       "    <tr style=\"text-align: right;\">\n",
       "      <th></th>\n",
       "      <th>Weights</th>\n",
       "      <th>Final_Value</th>\n",
       "      <th>Risk</th>\n",
       "    </tr>\n",
       "  </thead>\n",
       "  <tbody>\n",
       "    <tr>\n",
       "      <th>0</th>\n",
       "      <td>[0.1, 0.5, 0.3]</td>\n",
       "      <td>200000.0</td>\n",
       "      <td>0.29</td>\n",
       "    </tr>\n",
       "    <tr>\n",
       "      <th>1</th>\n",
       "      <td>[0.1, 0.5, 0.3]</td>\n",
       "      <td>200000.0</td>\n",
       "      <td>0.29</td>\n",
       "    </tr>\n",
       "    <tr>\n",
       "      <th>2</th>\n",
       "      <td>[0.1, 0.5, 0.3]</td>\n",
       "      <td>200000.0</td>\n",
       "      <td>0.29</td>\n",
       "    </tr>\n",
       "  </tbody>\n",
       "</table>\n",
       "</div>"
      ],
      "text/plain": [
       "           Weights  Final_Value  Risk\n",
       "0  [0.1, 0.5, 0.3]     200000.0  0.29\n",
       "1  [0.1, 0.5, 0.3]     200000.0  0.29\n",
       "2  [0.1, 0.5, 0.3]     200000.0  0.29"
      ]
     },
     "execution_count": 63,
     "metadata": {},
     "output_type": "execute_result"
    }
   ],
   "source": [
    "results=results.append({\n",
    "    \"Weights\":[0.1,0.5,0.3],\n",
    "    \"Final_Value\":200000,\n",
    "    \"Risk\":0.29\n",
    "}, ignore_index=True)\n",
    "results.head()"
   ]
  },
  {
   "cell_type": "code",
   "execution_count": 80,
   "metadata": {},
   "outputs": [
    {
     "data": {
      "text/html": [
       "<div>\n",
       "<style scoped>\n",
       "    .dataframe tbody tr th:only-of-type {\n",
       "        vertical-align: middle;\n",
       "    }\n",
       "\n",
       "    .dataframe tbody tr th {\n",
       "        vertical-align: top;\n",
       "    }\n",
       "\n",
       "    .dataframe thead th {\n",
       "        text-align: right;\n",
       "    }\n",
       "</style>\n",
       "<table border=\"1\" class=\"dataframe\">\n",
       "  <thead>\n",
       "    <tr style=\"text-align: right;\">\n",
       "      <th></th>\n",
       "      <th>Weights</th>\n",
       "      <th>Final_Value</th>\n",
       "      <th>Risk</th>\n",
       "    </tr>\n",
       "  </thead>\n",
       "  <tbody>\n",
       "    <tr>\n",
       "      <th>0</th>\n",
       "      <td>[0.2495830584721408, 0.2172399063226666, 0.100...</td>\n",
       "      <td>7451.288578</td>\n",
       "      <td>0.041337</td>\n",
       "    </tr>\n",
       "    <tr>\n",
       "      <th>1</th>\n",
       "      <td>[0.18188401985366554, 0.10934256119628338, 0.2...</td>\n",
       "      <td>7133.210507</td>\n",
       "      <td>0.042075</td>\n",
       "    </tr>\n",
       "    <tr>\n",
       "      <th>2</th>\n",
       "      <td>[0.23749899368231875, 0.0359156817821976, 0.00...</td>\n",
       "      <td>8444.268894</td>\n",
       "      <td>0.040238</td>\n",
       "    </tr>\n",
       "    <tr>\n",
       "      <th>3</th>\n",
       "      <td>[0.139120720247916, 0.1687195459453794, 0.3419...</td>\n",
       "      <td>6803.828089</td>\n",
       "      <td>0.040009</td>\n",
       "    </tr>\n",
       "    <tr>\n",
       "      <th>4</th>\n",
       "      <td>[0.31226907079028515, 0.2905182184073233, 0.10...</td>\n",
       "      <td>7051.871847</td>\n",
       "      <td>0.039635</td>\n",
       "    </tr>\n",
       "    <tr>\n",
       "      <th>...</th>\n",
       "      <td>...</td>\n",
       "      <td>...</td>\n",
       "      <td>...</td>\n",
       "    </tr>\n",
       "    <tr>\n",
       "      <th>20095</th>\n",
       "      <td>[0.1174093804379524, 0.3656867561100716, 0.202...</td>\n",
       "      <td>8175.688220</td>\n",
       "      <td>0.039495</td>\n",
       "    </tr>\n",
       "    <tr>\n",
       "      <th>20096</th>\n",
       "      <td>[0.10988520570925146, 0.06627879065083667, 0.1...</td>\n",
       "      <td>9217.444116</td>\n",
       "      <td>0.038013</td>\n",
       "    </tr>\n",
       "    <tr>\n",
       "      <th>20097</th>\n",
       "      <td>[0.19456762754926657, 0.21666393805860054, 0.1...</td>\n",
       "      <td>7937.657346</td>\n",
       "      <td>0.041484</td>\n",
       "    </tr>\n",
       "    <tr>\n",
       "      <th>20098</th>\n",
       "      <td>[0.20759580288511195, 0.19168164124214143, 0.0...</td>\n",
       "      <td>8431.248639</td>\n",
       "      <td>0.040292</td>\n",
       "    </tr>\n",
       "    <tr>\n",
       "      <th>20099</th>\n",
       "      <td>[0.21914697044233067, 0.21541519320720914, 0.1...</td>\n",
       "      <td>7829.540216</td>\n",
       "      <td>0.040179</td>\n",
       "    </tr>\n",
       "  </tbody>\n",
       "</table>\n",
       "<p>20100 rows × 3 columns</p>\n",
       "</div>"
      ],
      "text/plain": [
       "                                                 Weights  Final_Value  \\\n",
       "0      [0.2495830584721408, 0.2172399063226666, 0.100...  7451.288578   \n",
       "1      [0.18188401985366554, 0.10934256119628338, 0.2...  7133.210507   \n",
       "2      [0.23749899368231875, 0.0359156817821976, 0.00...  8444.268894   \n",
       "3      [0.139120720247916, 0.1687195459453794, 0.3419...  6803.828089   \n",
       "4      [0.31226907079028515, 0.2905182184073233, 0.10...  7051.871847   \n",
       "...                                                  ...          ...   \n",
       "20095  [0.1174093804379524, 0.3656867561100716, 0.202...  8175.688220   \n",
       "20096  [0.10988520570925146, 0.06627879065083667, 0.1...  9217.444116   \n",
       "20097  [0.19456762754926657, 0.21666393805860054, 0.1...  7937.657346   \n",
       "20098  [0.20759580288511195, 0.19168164124214143, 0.0...  8431.248639   \n",
       "20099  [0.21914697044233067, 0.21541519320720914, 0.1...  7829.540216   \n",
       "\n",
       "           Risk  \n",
       "0      0.041337  \n",
       "1      0.042075  \n",
       "2      0.040238  \n",
       "3      0.040009  \n",
       "4      0.039635  \n",
       "...         ...  \n",
       "20095  0.039495  \n",
       "20096  0.038013  \n",
       "20097  0.041484  \n",
       "20098  0.040292  \n",
       "20099  0.040179  \n",
       "\n",
       "[20100 rows x 3 columns]"
      ]
     },
     "execution_count": 80,
     "metadata": {},
     "output_type": "execute_result"
    }
   ],
   "source": [
    "trials = 5000\n",
    "for run in range(trials):\n",
    "    \n",
    "    \n",
    "    preweight = [random.random() for w in range(6)]\n",
    "    weightsum = sum(preweight)\n",
    "    weights = [w/weightsum for w in preweight]\n",
    "    \n",
    "    initial = 10000\n",
    "    portfolio_returns = returns.dot(weights)\n",
    "    cumulative_returns = (1+portfolio_returns).cumprod()\n",
    "    \n",
    "    results=results.append({\n",
    "        \"Weights\":weights,\n",
    "        \"Final_Value\":(initial * cumulative_returns)[-1],\n",
    "        \"Risk\": portfolio_returns.std()\n",
    "    }, ignore_index=True)\n",
    "    \n",
    "results"
   ]
  },
  {
   "cell_type": "code",
   "execution_count": 81,
   "metadata": {},
   "outputs": [
    {
     "data": {
      "text/plain": [
       "<matplotlib.axes._subplots.AxesSubplot at 0x1032e7210>"
      ]
     },
     "execution_count": 81,
     "metadata": {},
     "output_type": "execute_result"
    },
    {
     "data": {
      "image/png": "[encoded data removed]",
      "text/plain": [
       "<Figure size 432x288 with 1 Axes>"
      ]
     },
     "metadata": {
      "needs_background": "light"
     },
     "output_type": "display_data"
    }
   ],
   "source": [
    "results.plot(kind=\"scatter\", x=\"Risk\", y=\"Final_Value\")"
   ]
  },
  {
   "cell_type": "code",
   "execution_count": null,
   "metadata": {},
   "outputs": [],
   "source": []
  }
 ],
 "metadata": {
  "kernelspec": {
   "display_name": "Python 3",
   "language": "python",
   "name": "python3"
  },
  "language_info": {
   "codemirror_mode": {
    "name": "ipython",
    "version": 3
   },
   "file_extension": ".py",
   "mimetype": "text/x-python",
   "name": "python",
   "nbconvert_exporter": "python",
   "pygments_lexer": "ipython3",
   "version": "3.7.4"
  }
 },
 "nbformat": 4,
 "nbformat_minor": 4
}
